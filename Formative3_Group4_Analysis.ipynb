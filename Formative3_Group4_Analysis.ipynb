{
 "cells": [
  {
   "cell_type": "markdown",
   "id": "fda6bc7f",
   "metadata": {},
   "source": [
    "# Group 4: Formative 3 - Probability Distributions, Bayesian Probability, and Gradient Descent Implementation\n",
    "\n",
    "This Jupyter Notebook contains the implementation and analysis for Formative 3.\n",
    "Please ensure all cells are run sequentially for the correct output and visualizations.\n",
    "\n",
    "**Group: 4**  \n",
    "**Members:** Oreste, Ayomide, Kellia, Nshimiye"
   ]
  },
  {
   "cell_type": "markdown",
   "id": "c8b1d143",
   "metadata": {},
   "source": [
    "---\n",
    "## Part 1: Probability Distributions - Normal Distribution\n",
    "\n",
    "### 1.1. Introduction to the Normal Distribution\n",
    "\n",
    "The Normal Distribution, also known as the Gaussian distribution, is one of the most important and widely used continuous probability distributions. It is characterized by its symmetric, bell-shaped curve. Many natural phenomena and measurement errors tend to follow a normal distribution.\n",
    "\n",
    "**Key Characteristics:**\n",
    "- **Symmetry:** The curve is symmetric around its mean.\n",
    "- **Mean, Median, and Mode are Equal:** In a perfect normal distribution, these three measures of central tendency coincide at the peak of the curve.\n",
    "- **Asymptotic:** The tails of the curve approach the x-axis but never touch it, extending infinitely in both directions.\n",
    "- **Parameters:** It is defined by two parameters:\n",
    "    - $\\mu$ (mu): The mean, which determines the center of the distribution.\n",
    "    - $\\sigma$ (sigma): The standard deviation, which determines the spread or dispersion of the distribution. A smaller $\\sigma$ means a narrower, taller curve, while a larger $\\sigma$ means a wider, flatter curve.\n",
    "\n",
    "The Probability Density Function (PDF) of the Normal Distribution is given by:\n",
    "\n",
    "$$f(x | \\mu, \\sigma) = \\frac{1}{\\sigma \\sqrt{2\\pi}} e^{ -\\frac{1}{2}\\left(\\frac{x - \\mu}{\\sigma}\\right)^2 }$$\n",
    "\n",
    "Where:\n",
    "- $x$: The value of the variable\n",
    "- $\\mu$: The mean of the distribution\n",
    "- $\\sigma$: The standard deviation of the distribution\n",
    "- $\\pi$: Approximately 3.14159\n",
    "- $e$: Euler's number, approximately 2.71828"
   ]
  },
  {
   "cell_type": "markdown",
   "id": "318d5d71",
   "metadata": {},
   "source": [
    "### 1.2. Relevant Question & Real-World Example (COVID-19 Incubation Period)\n",
    "\n",
    "**Our Problem/Question:**\n",
    "\n",
    "The incubation period of COVID-19 follows a normal distribution with a mean ($\\mu$) = 5.1 days and a standard deviation ($\\sigma$) = 3 days. What is the probability density of a COVID-19 incubation period being exactly 7 days?\n",
    "\n",
    "**Real-World Example:**\n",
    "\n",
    "We are modeling the **incubation period of COVID-19**. This is a biological phenomenon that is often modeled using a normal distribution, providing insights into the typical time from exposure to symptom onset.\n",
    "\n",
    "- **Mean ($\\mu$):** 5.1 days (average incubation period)\n",
    "- **Standard Deviation ($\\sigma$):** 3 days (variability in incubation periods)"
   ]
  },
  {
   "cell_type": "markdown",
   "id": "2912b02c",
   "metadata": {},
   "source": [
    "### 1.3. Implementing the Normal Distribution PDF (No Libraries)"
   ]
  },
  {
   "cell_type": "code",
   "execution_count": 1,
   "id": "33706e1e",
   "metadata": {},
   "outputs": [],
   "source": [
    "# ---- Codes Goes here ---- Member 1"
   ]
  },
  {
   "cell_type": "markdown",
   "id": "10067e2f",
   "metadata": {},
   "source": [
    "### 1.4. Visualizing the Graph with Matplotlib"
   ]
  },
  {
   "cell_type": "code",
   "execution_count": 2,
   "id": "c9652cef",
   "metadata": {},
   "outputs": [],
   "source": [
    "# --- Codes goes here to visualize the PDF --- Member 2"
   ]
  },
  {
   "cell_type": "markdown",
   "id": "fcbdf526",
   "metadata": {},
   "source": [
    "-----\n",
    "## Part 2: Bayesian Probability (COVID-19 Test Accuracy)\n",
    "\n",
    "### 2.1. Choosing a Real-World Problem (COVID-19 Test Accuracy)\n",
    "\n",
    "**Scenario:** We are evaluating the accuracy of a COVID-19 test in a given population.\n",
    "\n",
    "**Given Parameters:**\n",
    "- **Disease prevalence ($P(D)$):** 2% of the population has COVID-19.\n",
    "- **Test sensitivity ($P(T^+|D)$):** If a person has COVID-19, the test will be positive 95% of the time.\n",
    "- **False Positive Rate ($P(T^+|D^c)$):** If a person does NOT have COVID-19, the test will still be positive 4% of the time.\n",
    "\n",
    "**Question:** What is the probability someone actually has COVID-19 if they test positive? (i.e., we want to find $P(D|T^+)$)"
   ]
  },
  {
   "cell_type": "markdown",
   "id": "21930fde",
   "metadata": {},
   "source": [
    "### 2.2. Implementing Bayes' Theorem in Python\n",
    "\n",
    "Bayes' Theorem:\n",
    "$$P(A|B) = \\frac{P(B|A) \\cdot P(A)}{P(B)}$$\n",
    "\n",
    "Where:\n",
    "- $P(A|B)$: Posterior probability - The probability of having the disease given a positive test result. (This is what we want: $P(D|T^+)$)\n",
    "- $P(B|A)$: Likelihood - The probability of a positive test result given that the person has the disease (Sensitivity). ($P(T^+|D)$)\n",
    "- $P(A)$: Prior probability - The initial probability of having the disease (Prevalence). ($P(D)$)\n",
    "- $P(B)$: Marginal likelihood - The total probability of getting a positive test result. ($P(T^+)$)\n",
    "\n",
    "Let's define our events:\n",
    "- $D$: Event that a person has COVID-19.\n",
    "- $D^c$: Event that a person does NOT have COVID-19.\n",
    "- $T^+$: Event that the test result is positive.\n",
    "- $T^-$: Event that the test result is negative.\n",
    "\n",
    "**Known Probabilities:**\n",
    "- $P(D) = 0.02$ (Prior probability of having the disease)\n",
    "- $P(D^c) = 1 - P(D) = 1 - 0.02 = 0.98$\n",
    "- $P(T^+|D) = 0.95$ (Sensitivity - Likelihood of positive test if diseased)\n",
    "- $P(T^+|D^c) = 0.04$ (False Positive Rate - Likelihood of positive test if not diseased)\n",
    "\n",
    "**To calculate $P(D|T^+)$, we first need $P(T^+)$ using the Law of Total Probability:**\n",
    "$P(T^+) = P(T^+|D)P(D) + P(T^+|D^c)P(D^c)$"
   ]
  },
  {
   "cell_type": "code",
   "execution_count": 3,
   "id": "7f7c0d0b",
   "metadata": {},
   "outputs": [],
   "source": [
    "# --- Codes goes here --- Member 3"
   ]
  },
  {
   "cell_type": "markdown",
   "id": "3718c87b",
   "metadata": {},
   "source": [
    "### 2.3. Explain the Practical Significance of Bayesian Inference\n",
    "\n",
    "Bayesian inference is profoundly significant because it provides a rigorous framework for updating our beliefs in light of new evidence. It allows us to move from an initial \"prior\" belief to a more refined \"posterior\" belief by incorporating observed data.\n",
    "\n",
    "In the COVID-19 test accuracy example:\n",
    "\n",
    "- **Initial Belief (Prior):** Before testing, we assume a person's probability of having COVID-19 is based on the general population prevalence (2%). This is our prior belief.\n",
    "- **New Evidence (Likelihood):** The test result (positive) provides new evidence. The test's sensitivity and false positive rate tell us how likely this evidence is if the person has the disease versus if they don't.\n",
    "- **Updated Belief (Posterior):** After a positive test, our updated belief (posterior probability) is that the person has about a **32.20% chance** of actually having COVID-19.\n",
    "\n",
    "**Practical Significance:**\n",
    "\n",
    "1.  **Nuance in Diagnosis:** Despite a test being 95% sensitive, a positive result doesn't mean a 95% chance of having the disease, especially when the disease is rare (low prior). This is counter-intuitive for many people and highlights the value of Bayesian thinking in medical diagnosis. A positive test significantly increases the probability from 2% to 32.20%, but it's far from a certainty.\n",
    "2.  **Informing Further Actions:** A result of 32.20% indicates a strong need for further investigation (e.g., a confirmatory test, considering symptoms, or isolation), but it also advises against definitive treatment or public health measures based solely on this single test result, given the substantial chance of a false positive (67.8% chance of not having the disease despite a positive test).\n",
    "3.  **Adaptive Decision Making:** Bayesian inference is crucial in scenarios where decisions need to be made with incomplete information, and new data continuously arrives. It allows for adaptive decision-making by continuously refining probabilities.\n",
    "4.  **Risk Assessment:** It helps in better assessing actual risk. In our scenario, the risk of having COVID-19 jumps from 2% to 32.20% given a positive test, allowing individuals and healthcare providers to make more informed decisions about precautions, testing, and treatment.\n",
    "5.  **Spam Filtering and AI:** Beyond medicine, Bayesian probability is fundamental to spam filters (classifying emails as spam or not based on word likelihoods), machine learning algorithms (e.g., Naive Bayes classifiers), and artificial intelligence for making decisions under uncertainty."
   ]
  },
  {
   "cell_type": "markdown",
   "id": "c7905349",
   "metadata": {},
   "source": [
    "-----\n",
    "## Part 3: Gradient Descent Manual Calculation\n",
    "\n",
    "**Objective:** Manually compute three updates of the gradient descent algorithm for the parameters $m$ and $b$ in a simple linear regression model.\n",
    "\n",
    "**Instructions:**\n",
    "Given the linear equation: $y = mx + b$\n",
    "\n",
    "- Initial $m = -1$\n",
    "- Initial $b = 1$\n",
    "- Learning rate $\\alpha = 0.1$\n",
    "- Given points: $(x_1, y_1) = (1, 3)$ and $(x_2, y_2) = (3, 6)$\n",
    "- Number of data points $n = 2$\n",
    "\n",
    "**Cost Function (Mean Squared Error, MSE):**\n",
    "$J(m,b) = \\frac{1}{n} \\sum_{i=1}^{n} (y_i - \\hat{y}_i)^2$\n",
    "\n",
    "**Gradients:**\n",
    "$\\frac{\\partial J}{\\partial m} = -\\frac{2}{n}\\sum_{i=1}^{n}(y_i - \\hat{y}_i)x_i$\n",
    "$\\frac{\\partial J}{\\partial b} = -\\frac{2}{n}\\sum_{i=1}^{n}(y_i - \\hat{y}_i)$\n",
    "\n",
    "**Update Rules:**\n",
    "$m_{new} = m_{old} - \\alpha \\frac{\\partial J}{\\partial m}$\n",
    "$b_{new} = b_{old} - \\alpha \\frac{\\partial J}{\\partial b}$\n",
    "\n",
    "**Calculation Steps (for each iteration):**\n",
    "\n",
    "1.  **Current parameters:** $m_{old}$, $b_{old}$\n",
    "2.  **Compute predicted values ($\\hat{y}$):** Calculate $\\hat{y}_i = m_{old}x_i + b_{old}$ for each data point.\n",
    "3.  **Compute errors:** Calculate $(y_i - \\hat{y}_i)$ for each data point.\n",
    "4.  **Compute gradient of J with respect to m ($\\frac{\\partial J}{\\partial m}$):** Use the formula provided.\n",
    "5.  **Compute gradient of J with respect to b ($\\frac{\\partial J}{\\partial b}$):** Use the formula provided.\n",
    "6.  **Update m and b:** Apply the update rules using the calculated gradients and learning rate.\n",
    "7.  **Calculate MSE Cost (optional but good for tracking):** Compute $J(m_{new}, b_{new})$ to see if the error is decreasing.\n",
    "\n",
    "**Since our Group 4 has 4 members, we performed 4 updates in total. The full manual calculations for all iterations were submitted as a separate PDF document.**"
   ]
  },
  {
   "cell_type": "markdown",
   "id": "cba8e6e3",
   "metadata": {},
   "source": [
    "-----\n",
    "## Part 4: Gradient Descent in Code\n",
    "\n",
    "This section converts the manual calculations into Python code. The goal is to clearly show each step of the gradient descent update process. `matplotlib.pyplot` will be used for visualization. While `SciPy` is mentioned, for this basic linear regression with explicit gradient updates, the core logic will remain manual to meet the \"does not abstract the update process excessively\" requirement."
   ]
  },
  {
   "cell_type": "code",
   "execution_count": 4,
   "id": "dff300c3",
   "metadata": {},
   "outputs": [],
   "source": [
    "# --- Codes go here --- Member 4"
   ]
  }
 ],
 "metadata": {
  "kernelspec": {
   "display_name": ".venv",
   "language": "python",
   "name": "python3"
  },
  "language_info": {
   "codemirror_mode": {
    "name": "ipython",
    "version": 3
   },
   "file_extension": ".py",
   "mimetype": "text/x-python",
   "name": "python",
   "nbconvert_exporter": "python",
   "pygments_lexer": "ipython3",
   "version": "3.13.3"
  }
 },
 "nbformat": 4,
 "nbformat_minor": 5
}
